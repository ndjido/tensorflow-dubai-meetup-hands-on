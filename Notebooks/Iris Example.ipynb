{
 "cells": [
  {
   "cell_type": "code",
   "execution_count": 1,
   "metadata": {
    "collapsed": false
   },
   "outputs": [],
   "source": [
    "import tensorflow as tf\n",
    "import pandas as pd\n",
    "import os"
   ]
  },
  {
   "cell_type": "code",
   "execution_count": 2,
   "metadata": {
    "collapsed": true
   },
   "outputs": [],
   "source": [
    "working_dir = '/Users/ndjido/Documents/Davidson_Consulting/TF_DL_Meetup/Demo/TFIris/'"
   ]
  },
  {
   "cell_type": "code",
   "execution_count": 6,
   "metadata": {
    "collapsed": true
   },
   "outputs": [],
   "source": [
    "col_names = ['sepal_lenght', 'sepal_width', 'petal_length', 'petal_width', 'target']"
   ]
  },
  {
   "cell_type": "code",
   "execution_count": 4,
   "metadata": {
    "collapsed": false
   },
   "outputs": [],
   "source": [
    "class_names =['Setosa', 'Versicolour', 'Virginica']\n",
    "\n",
    "col_names = ['sepal_lenght', 'sepal_width', 'petal_length', 'petal_width', 'target']\n",
    "df_train = pd.read_csv(os.path.join(working_dir, 'input', \"iris.data\"), skiprows=1, header=None, names=col_names)\n",
    "df_train_feature = df_train[col_names[:4]]\n",
    "df_train_target = df_train[['target']]\n"
   ]
  },
  {
   "cell_type": "code",
   "execution_count": 5,
   "metadata": {
    "collapsed": false
   },
   "outputs": [
    {
     "data": {
      "text/html": [
       "<div>\n",
       "<table border=\"1\" class=\"dataframe\">\n",
       "  <thead>\n",
       "    <tr style=\"text-align: right;\">\n",
       "      <th></th>\n",
       "      <th>sepal_lenght</th>\n",
       "      <th>sepal_width</th>\n",
       "      <th>petal_length</th>\n",
       "      <th>petal_width</th>\n",
       "    </tr>\n",
       "  </thead>\n",
       "  <tbody>\n",
       "    <tr>\n",
       "      <th>0</th>\n",
       "      <td>4.9</td>\n",
       "      <td>3.0</td>\n",
       "      <td>1.4</td>\n",
       "      <td>0.2</td>\n",
       "    </tr>\n",
       "    <tr>\n",
       "      <th>1</th>\n",
       "      <td>4.7</td>\n",
       "      <td>3.2</td>\n",
       "      <td>1.3</td>\n",
       "      <td>0.2</td>\n",
       "    </tr>\n",
       "    <tr>\n",
       "      <th>2</th>\n",
       "      <td>4.6</td>\n",
       "      <td>3.1</td>\n",
       "      <td>1.5</td>\n",
       "      <td>0.2</td>\n",
       "    </tr>\n",
       "    <tr>\n",
       "      <th>3</th>\n",
       "      <td>5.0</td>\n",
       "      <td>3.6</td>\n",
       "      <td>1.4</td>\n",
       "      <td>0.2</td>\n",
       "    </tr>\n",
       "    <tr>\n",
       "      <th>4</th>\n",
       "      <td>5.4</td>\n",
       "      <td>3.9</td>\n",
       "      <td>1.7</td>\n",
       "      <td>0.4</td>\n",
       "    </tr>\n",
       "  </tbody>\n",
       "</table>\n",
       "</div>"
      ],
      "text/plain": [
       "   sepal_lenght  sepal_width  petal_length  petal_width\n",
       "0           4.9          3.0           1.4          0.2\n",
       "1           4.7          3.2           1.3          0.2\n",
       "2           4.6          3.1           1.5          0.2\n",
       "3           5.0          3.6           1.4          0.2\n",
       "4           5.4          3.9           1.7          0.4"
      ]
     },
     "execution_count": 5,
     "metadata": {},
     "output_type": "execute_result"
    }
   ],
   "source": [
    "df_train_feature.head()"
   ]
  },
  {
   "cell_type": "code",
   "execution_count": 6,
   "metadata": {
    "collapsed": false
   },
   "outputs": [
    {
     "data": {
      "text/html": [
       "<div>\n",
       "<table border=\"1\" class=\"dataframe\">\n",
       "  <thead>\n",
       "    <tr style=\"text-align: right;\">\n",
       "      <th></th>\n",
       "      <th>target</th>\n",
       "    </tr>\n",
       "  </thead>\n",
       "  <tbody>\n",
       "    <tr>\n",
       "      <th>0</th>\n",
       "      <td>Iris-setosa</td>\n",
       "    </tr>\n",
       "    <tr>\n",
       "      <th>1</th>\n",
       "      <td>Iris-setosa</td>\n",
       "    </tr>\n",
       "    <tr>\n",
       "      <th>2</th>\n",
       "      <td>Iris-setosa</td>\n",
       "    </tr>\n",
       "    <tr>\n",
       "      <th>3</th>\n",
       "      <td>Iris-setosa</td>\n",
       "    </tr>\n",
       "    <tr>\n",
       "      <th>4</th>\n",
       "      <td>Iris-setosa</td>\n",
       "    </tr>\n",
       "  </tbody>\n",
       "</table>\n",
       "</div>"
      ],
      "text/plain": [
       "        target\n",
       "0  Iris-setosa\n",
       "1  Iris-setosa\n",
       "2  Iris-setosa\n",
       "3  Iris-setosa\n",
       "4  Iris-setosa"
      ]
     },
     "execution_count": 6,
     "metadata": {},
     "output_type": "execute_result"
    }
   ],
   "source": [
    "df_train_target.head()"
   ]
  },
  {
   "cell_type": "code",
   "execution_count": 7,
   "metadata": {
    "collapsed": false
   },
   "outputs": [
    {
     "data": {
      "text/html": [
       "<div>\n",
       "<table border=\"1\" class=\"dataframe\">\n",
       "  <thead>\n",
       "    <tr style=\"text-align: right;\">\n",
       "      <th></th>\n",
       "      <th>target_Iris-setosa</th>\n",
       "      <th>target_Iris-versicolor</th>\n",
       "      <th>target_Iris-virginica</th>\n",
       "    </tr>\n",
       "  </thead>\n",
       "  <tbody>\n",
       "    <tr>\n",
       "      <th>0</th>\n",
       "      <td>1</td>\n",
       "      <td>0</td>\n",
       "      <td>0</td>\n",
       "    </tr>\n",
       "    <tr>\n",
       "      <th>1</th>\n",
       "      <td>1</td>\n",
       "      <td>0</td>\n",
       "      <td>0</td>\n",
       "    </tr>\n",
       "    <tr>\n",
       "      <th>2</th>\n",
       "      <td>1</td>\n",
       "      <td>0</td>\n",
       "      <td>0</td>\n",
       "    </tr>\n",
       "    <tr>\n",
       "      <th>3</th>\n",
       "      <td>1</td>\n",
       "      <td>0</td>\n",
       "      <td>0</td>\n",
       "    </tr>\n",
       "    <tr>\n",
       "      <th>4</th>\n",
       "      <td>1</td>\n",
       "      <td>0</td>\n",
       "      <td>0</td>\n",
       "    </tr>\n",
       "  </tbody>\n",
       "</table>\n",
       "</div>"
      ],
      "text/plain": [
       "   target_Iris-setosa  target_Iris-versicolor  target_Iris-virginica\n",
       "0                   1                       0                      0\n",
       "1                   1                       0                      0\n",
       "2                   1                       0                      0\n",
       "3                   1                       0                      0\n",
       "4                   1                       0                      0"
      ]
     },
     "execution_count": 7,
     "metadata": {},
     "output_type": "execute_result"
    }
   ],
   "source": [
    "df_target_dummies = pd.get_dummies(df_train_target)\n",
    "df_target_dummies.head()"
   ]
  },
  {
   "cell_type": "code",
   "execution_count": 8,
   "metadata": {
    "collapsed": false
   },
   "outputs": [
    {
     "data": {
      "text/plain": [
       "target_Iris-setosa        1\n",
       "target_Iris-versicolor    0\n",
       "target_Iris-virginica     0\n",
       "Name: 3, dtype: uint8"
      ]
     },
     "execution_count": 8,
     "metadata": {},
     "output_type": "execute_result"
    }
   ],
   "source": [
    "df_target_dummies.iloc[3]"
   ]
  },
  {
   "cell_type": "code",
   "execution_count": 9,
   "metadata": {
    "collapsed": false
   },
   "outputs": [],
   "source": [
    "df_iris_v2 = pd.concat([df_train_feature, df_target_dummies], axis=1)"
   ]
  },
  {
   "cell_type": "code",
   "execution_count": 15,
   "metadata": {
    "collapsed": false
   },
   "outputs": [
    {
     "name": "stdout",
     "output_type": "stream",
     "text": [
      "TRAIN: [127 100  79  28  75  38  91 140 111  61 139  95  92  45   8 105   4 147\n",
      "  93  68 107  57 145  94 130  10  22  69  13  82  77 134  33  15  90 142\n",
      "  16  27  32  58 103  26  73  74  41  71 125  81 104  11 124  78  86 115\n",
      " 106  96 119  48  83   7 132 137  31 131  72  65  62 110 123  20  30  51\n",
      "  42  14  59  35 136   2  18 126 118  55 121  43 116  29 114  56  34] TEST: [120 108  23 143  44  19   9 146  97  88   6 148 117  47  60  99  64  12\n",
      " 112 141  63  37 144  39  98  52 101  21  53 138  17 129  70  85 109   0\n",
      " 135  50  80 122  49  40  67 102 128  84  87   3   5  24  46 133  89  36\n",
      "  25  54 113   1  66  76]\n",
      "TRAIN: [ 77 127  87 142  66  43  38  70 111  93 146  47 147 124 143  82  11  33\n",
      "  78  80  71  69  59   5  57  25 133  52  73  12 109 104  86 105  39 144\n",
      "  34  14  28  89  41  20  63   2  74  51  61 117  21 139  31 141  18  54\n",
      "   4  68 107  15  48  53 129 112 145  85  49  35  10 101  95   9   1 120\n",
      " 138 148 137 125  46 110 130  97 134  64  44 113  45  60 123  91   6] TEST: [ 50 136  32 135 103 114 108  98 119 100 106  99  16  88   7  29  24  22\n",
      " 116  81 115  62  76  96  56  19  83   0   8  67 121 132  37  36  58  40\n",
      "  17  26 140  75  27  23 126  42 122  94   3  79 128 102  55  72  90  65\n",
      "  84  30  92 118  13 131]\n",
      "TRAIN: [135  19   9  66 140 108 104  60 136  62 132  65  45  16 111  11  70 114\n",
      "  33  36  54 112  48 101  34  96  31  37 115  79 145  41 130 126  80  13\n",
      "  72 110 121 125  17  88  73  71  83 128  32  29  74 106  77  15 133  22\n",
      "  21  50  40 120  85  63  51 116 113  57 137  30 122  82  24  91  55   2\n",
      "   0  20  28  93 144 142  64 131  87  35 100  46  68 103  23  76  84] TEST: [ 75  39 129  56  90  26 119   8 141  86   4   5  69 117 109 107 127 124\n",
      " 134 138   3  67  18 148  47  81  99 105  59 146  78  25  12  49  94  44\n",
      "  38 143  53  43   1 118  14  42  95 102  27  61   6  58  97  52  92  10\n",
      "  89   7 147 123 139  98]\n"
     ]
    }
   ],
   "source": [
    "from sklearn.model_selection import StratifiedShuffleSplit\n",
    "\n",
    "X = df_train.sepal_lenght\n",
    "y = df_train_target.target\n",
    "spliter = StratifiedShuffleSplit(n_splits=3, test_size=0.4, random_state=0)\n",
    "spliter.get_n_splits(X, y)\n",
    "\n",
    "for train_index, test_index in spliter.split(X, y):\n",
    "    print(\"TRAIN:\", train_index, \"TEST:\", test_index)\n",
    "    X_train, X_test = df_iris_v2.iloc[train_index], df_iris_v2.iloc[test_index]\n",
    "    y_train, y_test = df_target_dummies.iloc[train_index], df_target_dummies.iloc[test_index]"
   ]
  },
  {
   "cell_type": "code",
   "execution_count": 21,
   "metadata": {
    "collapsed": false,
    "scrolled": false
   },
   "outputs": [
    {
     "data": {
      "text/html": [
       "<div>\n",
       "<table border=\"1\" class=\"dataframe\">\n",
       "  <thead>\n",
       "    <tr style=\"text-align: right;\">\n",
       "      <th></th>\n",
       "      <th>sepal_lenght</th>\n",
       "      <th>sepal_width</th>\n",
       "      <th>petal_length</th>\n",
       "      <th>petal_width</th>\n",
       "      <th>target_Iris-setosa</th>\n",
       "      <th>target_Iris-versicolor</th>\n",
       "      <th>target_Iris-virginica</th>\n",
       "    </tr>\n",
       "  </thead>\n",
       "  <tbody>\n",
       "    <tr>\n",
       "      <th>135</th>\n",
       "      <td>6.3</td>\n",
       "      <td>3.4</td>\n",
       "      <td>5.6</td>\n",
       "      <td>2.4</td>\n",
       "      <td>0</td>\n",
       "      <td>0</td>\n",
       "      <td>1</td>\n",
       "    </tr>\n",
       "    <tr>\n",
       "      <th>19</th>\n",
       "      <td>5.4</td>\n",
       "      <td>3.4</td>\n",
       "      <td>1.7</td>\n",
       "      <td>0.2</td>\n",
       "      <td>1</td>\n",
       "      <td>0</td>\n",
       "      <td>0</td>\n",
       "    </tr>\n",
       "    <tr>\n",
       "      <th>9</th>\n",
       "      <td>5.4</td>\n",
       "      <td>3.7</td>\n",
       "      <td>1.5</td>\n",
       "      <td>0.2</td>\n",
       "      <td>1</td>\n",
       "      <td>0</td>\n",
       "      <td>0</td>\n",
       "    </tr>\n",
       "    <tr>\n",
       "      <th>66</th>\n",
       "      <td>5.8</td>\n",
       "      <td>2.7</td>\n",
       "      <td>4.1</td>\n",
       "      <td>1.0</td>\n",
       "      <td>0</td>\n",
       "      <td>1</td>\n",
       "      <td>0</td>\n",
       "    </tr>\n",
       "    <tr>\n",
       "      <th>140</th>\n",
       "      <td>6.9</td>\n",
       "      <td>3.1</td>\n",
       "      <td>5.1</td>\n",
       "      <td>2.3</td>\n",
       "      <td>0</td>\n",
       "      <td>0</td>\n",
       "      <td>1</td>\n",
       "    </tr>\n",
       "  </tbody>\n",
       "</table>\n",
       "</div>"
      ],
      "text/plain": [
       "     sepal_lenght  sepal_width  petal_length  petal_width  target_Iris-setosa  \\\n",
       "135           6.3          3.4           5.6          2.4                   0   \n",
       "19            5.4          3.4           1.7          0.2                   1   \n",
       "9             5.4          3.7           1.5          0.2                   1   \n",
       "66            5.8          2.7           4.1          1.0                   0   \n",
       "140           6.9          3.1           5.1          2.3                   0   \n",
       "\n",
       "     target_Iris-versicolor  target_Iris-virginica  \n",
       "135                       0                      1  \n",
       "19                        0                      0  \n",
       "9                         0                      0  \n",
       "66                        1                      0  \n",
       "140                       0                      1  "
      ]
     },
     "execution_count": 21,
     "metadata": {},
     "output_type": "execute_result"
    }
   ],
   "source": [
    "X_train.to_csv(working_dir + 'input/iris_train.csv', index=False)\n",
    "X_train.head()"
   ]
  },
  {
   "cell_type": "code",
   "execution_count": 22,
   "metadata": {
    "collapsed": false
   },
   "outputs": [
    {
     "data": {
      "text/html": [
       "<div>\n",
       "<table border=\"1\" class=\"dataframe\">\n",
       "  <thead>\n",
       "    <tr style=\"text-align: right;\">\n",
       "      <th></th>\n",
       "      <th>sepal_lenght</th>\n",
       "      <th>sepal_width</th>\n",
       "      <th>petal_length</th>\n",
       "      <th>petal_width</th>\n",
       "      <th>target_Iris-setosa</th>\n",
       "      <th>target_Iris-versicolor</th>\n",
       "      <th>target_Iris-virginica</th>\n",
       "    </tr>\n",
       "  </thead>\n",
       "  <tbody>\n",
       "    <tr>\n",
       "      <th>75</th>\n",
       "      <td>6.8</td>\n",
       "      <td>2.8</td>\n",
       "      <td>4.8</td>\n",
       "      <td>1.4</td>\n",
       "      <td>0</td>\n",
       "      <td>1</td>\n",
       "      <td>0</td>\n",
       "    </tr>\n",
       "    <tr>\n",
       "      <th>39</th>\n",
       "      <td>5.0</td>\n",
       "      <td>3.5</td>\n",
       "      <td>1.3</td>\n",
       "      <td>0.3</td>\n",
       "      <td>1</td>\n",
       "      <td>0</td>\n",
       "      <td>0</td>\n",
       "    </tr>\n",
       "    <tr>\n",
       "      <th>129</th>\n",
       "      <td>7.4</td>\n",
       "      <td>2.8</td>\n",
       "      <td>6.1</td>\n",
       "      <td>1.9</td>\n",
       "      <td>0</td>\n",
       "      <td>0</td>\n",
       "      <td>1</td>\n",
       "    </tr>\n",
       "    <tr>\n",
       "      <th>56</th>\n",
       "      <td>4.9</td>\n",
       "      <td>2.4</td>\n",
       "      <td>3.3</td>\n",
       "      <td>1.0</td>\n",
       "      <td>0</td>\n",
       "      <td>1</td>\n",
       "      <td>0</td>\n",
       "    </tr>\n",
       "    <tr>\n",
       "      <th>90</th>\n",
       "      <td>6.1</td>\n",
       "      <td>3.0</td>\n",
       "      <td>4.6</td>\n",
       "      <td>1.4</td>\n",
       "      <td>0</td>\n",
       "      <td>1</td>\n",
       "      <td>0</td>\n",
       "    </tr>\n",
       "  </tbody>\n",
       "</table>\n",
       "</div>"
      ],
      "text/plain": [
       "     sepal_lenght  sepal_width  petal_length  petal_width  target_Iris-setosa  \\\n",
       "75            6.8          2.8           4.8          1.4                   0   \n",
       "39            5.0          3.5           1.3          0.3                   1   \n",
       "129           7.4          2.8           6.1          1.9                   0   \n",
       "56            4.9          2.4           3.3          1.0                   0   \n",
       "90            6.1          3.0           4.6          1.4                   0   \n",
       "\n",
       "     target_Iris-versicolor  target_Iris-virginica  \n",
       "75                        1                      0  \n",
       "39                        0                      0  \n",
       "129                       0                      1  \n",
       "56                        1                      0  \n",
       "90                        1                      0  "
      ]
     },
     "execution_count": 22,
     "metadata": {},
     "output_type": "execute_result"
    }
   ],
   "source": [
    "X_test.to_csv(working_dir + 'input/iris_test.csv', index=False)\n",
    "X_test.head()"
   ]
  },
  {
   "cell_type": "code",
   "execution_count": 23,
   "metadata": {
    "collapsed": true
   },
   "outputs": [],
   "source": [
    "import tensorflow as tf"
   ]
  },
  {
   "cell_type": "code",
   "execution_count": null,
   "metadata": {
    "collapsed": true
   },
   "outputs": [],
   "source": [
    "filename_queue_train = tf.train.string_input_producer([os.path.join(FLAGS.input_dir, 'iris_tain.csv')])\n",
    "filename_queue_test = tf.train.string_input_producer([os.path.join(FLAGS.input_dir, 'iris_test.csv')])\n",
    "\n",
    "train_reader = tf.TextLineReader()\n",
    "test_reader = tf.TextLineReader()\n",
    "_, value_train = train_reader.read(filename_queue_train)\n",
    "_, value_test = test_reader.read(filename_queue_test)\n"
   ]
  },
  {
   "cell_type": "code",
   "execution_count": 50,
   "metadata": {
    "collapsed": false
   },
   "outputs": [],
   "source": [
    "IRIS_HEADER_SIZE = 7\n",
    "FEATURE_SIZE = 4\n",
    "TARGET_SIZE = 3\n",
    "\n",
    "def iris_parser(record):\n",
    "    record_defaults = [tf.constant([0], dtype=tf.float32)] * IRIS_HEADER_SIZE\n",
    "    sl, sw, pl, pw, se, ve, vi  = tf.decode_csv(record, record_defaults, field_delim=',')\n",
    "    return [sl, sw, pl, pw, se, ve, vi]\n",
    " \n",
    "def read_csv(file_names, batch_size):\n",
    "    examples_op = tf.contrib.learn.read_batch_examples(\n",
    "        file_names,\n",
    "        batch_size = batch_size,\n",
    "        num_epochs = None,\n",
    "        reader=tf.TextLineReader,\n",
    "        parse_fn = iris_parser)\n",
    "    \n",
    "    return examples_op"
   ]
  },
  {
   "cell_type": "code",
   "execution_count": 51,
   "metadata": {
    "collapsed": false,
    "scrolled": false
   },
   "outputs": [],
   "source": [
    "c = read_csv(working_dir + 'input/iris_train.csv', 2)"
   ]
  },
  {
   "cell_type": "code",
   "execution_count": 18,
   "metadata": {
    "collapsed": false,
    "scrolled": false
   },
   "outputs": [
    {
     "name": "stdout",
     "output_type": "stream",
     "text": [
      "[array([[ 5.        ,  3.29999995,  1.39999998,  0.2       ,  1.        ,\n",
      "         0.        ,  0.        ],\n",
      "       [ 6.5999999 ,  2.9000001 ,  4.5999999 ,  1.29999995,  0.        ,\n",
      "         1.        ,  0.        ]], dtype=float32)]\n"
     ]
    }
   ],
   "source": [
    "with tf.Session() as sess:\n",
    "    sess.run(tf.global_variables_initializer())\n",
    "    \n",
    "    coord = tf.train.Coordinator()\n",
    "    threads = tf.train.start_queue_runners(coord=coord)\n",
    "    \n",
    "    for _ in range(1):\n",
    "        Xy = sess.run([c])\n",
    "        print(Xy)\n",
    "    \n",
    "    coord.request_stop()\n",
    "    coord.join(threads)\n"
   ]
  },
  {
   "cell_type": "code",
   "execution_count": null,
   "metadata": {
    "collapsed": true
   },
   "outputs": [],
   "source": []
  },
  {
   "cell_type": "code",
   "execution_count": null,
   "metadata": {
    "collapsed": true
   },
   "outputs": [],
   "source": []
  }
 ],
 "metadata": {
  "kernelspec": {
   "display_name": "Python 3",
   "language": "python",
   "name": "python3"
  },
  "language_info": {
   "codemirror_mode": {
    "name": "ipython",
    "version": 3
   },
   "file_extension": ".py",
   "mimetype": "text/x-python",
   "name": "python",
   "nbconvert_exporter": "python",
   "pygments_lexer": "ipython3",
   "version": "3.6.0"
  }
 },
 "nbformat": 4,
 "nbformat_minor": 0
}
